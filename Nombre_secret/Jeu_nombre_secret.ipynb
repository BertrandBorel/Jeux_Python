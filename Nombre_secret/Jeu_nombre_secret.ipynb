{
 "cells": [
  {
   "cell_type": "markdown",
   "id": "a2562bc4",
   "metadata": {},
   "source": [
    "# <center> Deviner le nombre secret </center>\n",
    "\n",
    "## Script 1 :"
   ]
  },
  {
   "cell_type": "code",
   "execution_count": null,
   "id": "0f91a83f",
   "metadata": {},
   "outputs": [
    {
     "name": "stdout",
     "output_type": "stream",
     "text": [
      "Entrez un nombre compris entre 1 et 100 (0 pour quitter) : 50\n",
      "Entrez un nombre plus grand.\n",
      "Entrez un nombre compris entre 1 et 100 (0 pour quitter) : 75\n",
      "Entrez un nombre plus petit.\n",
      "Entrez un nombre compris entre 1 et 100 (0 pour quitter) : 65\n",
      "Entrez un nombre plus petit.\n",
      "Entrez un nombre compris entre 1 et 100 (0 pour quitter) : 55\n",
      "Entrez un nombre plus petit.\n",
      "Entrez un nombre compris entre 1 et 100 (0 pour quitter) : 53\n",
      "Entrez un nombre plus petit.\n",
      "Entrez un nombre compris entre 1 et 100 (0 pour quitter) : 52\n",
      "Bravo ! Le nombre secret était 52 !\n",
      "Nombre d'essais 6.\n"
     ]
    }
   ],
   "source": [
    "from random import randint\n",
    "\n",
    "aleatoire = randint(1, 100)\n",
    "compteur = 0\n",
    "\n",
    "while True :\n",
    "    compteur += 1\n",
    "    nombre = int(input(\"Entrez un nombre compris entre 1 et 100 (0 pour quitter) : \"))\n",
    "    if nombre == 0 :\n",
    "        print(\"Vous avez quitté le jeu\")\n",
    "        break\n",
    "        \n",
    "    elif nombre < aleatoire :\n",
    "        print(\"Entrez un nombre plus grand.\")\n",
    "        continue\n",
    "    elif nombre > aleatoire : \n",
    "        print(\"Entrez un nombre plus petit.\")\n",
    "        continue\n",
    "    else : \n",
    "        print(\"Bravo ! Le nombre secret était {0} !\".format(aleatoire))\n",
    "        print(\"Nombre d'essais {0}.\".format(compteur))\n",
    "        # Interrompre le jeu une fois le nombre trouvé\n",
    "        # break"
   ]
  }
 ],
 "metadata": {
  "kernelspec": {
   "display_name": "Python 3 (ipykernel)",
   "language": "python",
   "name": "python3"
  },
  "language_info": {
   "codemirror_mode": {
    "name": "ipython",
    "version": 3
   },
   "file_extension": ".py",
   "mimetype": "text/x-python",
   "name": "python",
   "nbconvert_exporter": "python",
   "pygments_lexer": "ipython3",
   "version": "3.8.3"
  }
 },
 "nbformat": 4,
 "nbformat_minor": 5
}
